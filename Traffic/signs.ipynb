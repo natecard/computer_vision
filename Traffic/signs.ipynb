{
 "cells": [
  {
   "cell_type": "code",
   "execution_count": null,
   "metadata": {},
   "outputs": [],
   "source": [
    "import torch;\n",
    "from torchvision import datasets, transforms\n",
    "from torch import nn;\n",
    "from torch.utils.data import DataLoader\n",
    "from torchvision.transforms import ToTensor, Resize\n",
    "\n",
    "desired_height = 64\n",
    "desired_width = 64\n",
    "\n",
    "\n",
    "training_data = datasets.GTSRB(\n",
    "    root=\"data\",\n",
    "    split=\"train\",\n",
    "    download=True,\n",
    "    transform=transforms.Compose([\n",
    "        Resize((desired_height, desired_width)),\n",
    "        ToTensor(),\n",
    "    ]),\n",
    ")\n",
    "\n",
    "test_data = datasets.GTSRB(\n",
    "    root=\"data\",\n",
    "    split=\"test\",\n",
    "    download=True,\n",
    "    transform=transforms.Compose([\n",
    "        Resize((desired_height, desired_width)),\n",
    "        ToTensor(),\n",
    "    ]),\n",
    ")\n",
    "\n",
    "\n",
    "\n"
   ]
  },
  {
   "cell_type": "code",
   "execution_count": null,
   "metadata": {},
   "outputs": [],
   "source": [
    "batch_size = 64\n",
    "\n",
    "train_dataloader = DataLoader(training_data, batch_size=batch_size)\n",
    "test_dataloader = DataLoader(test_data, batch_size=batch_size)\n",
    "\n",
    "for X, y in test_dataloader:\n",
    "    for img in X:\n",
    "        print(f\"Image size: {img.shape}\")\n",
    "    print(f\"Shape of X: {X.shape}\")\n",
    "    print(f\"Shape of y: {y.shape} {y.dtype}\")\n",
    "    break"
   ]
  }
 ],
 "metadata": {
  "kernelspec": {
   "display_name": "video_vision",
   "language": "python",
   "name": "python3"
  },
  "language_info": {
   "codemirror_mode": {
    "name": "ipython",
    "version": 3
   },
   "file_extension": ".py",
   "mimetype": "text/x-python",
   "name": "python",
   "nbconvert_exporter": "python",
   "pygments_lexer": "ipython3",
   "version": "3.11.5"
  }
 },
 "nbformat": 4,
 "nbformat_minor": 2
}
